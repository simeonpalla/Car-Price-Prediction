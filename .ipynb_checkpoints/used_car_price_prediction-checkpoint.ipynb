{
 "cells": [
  {
   "cell_type": "markdown",
   "id": "6741d219",
   "metadata": {},
   "source": [
    "### Import libraries and configure Settings"
   ]
  },
  {
   "cell_type": "code",
   "execution_count": null,
   "id": "111084a1",
   "metadata": {
    "ExecuteTime": {
     "end_time": "2024-03-31T10:59:08.889691Z",
     "start_time": "2024-03-31T10:59:08.873895Z"
    }
   },
   "outputs": [],
   "source": [
    "# To enable plotting graphs in Jupyter notebook\n",
    "%matplotlib inline "
   ]
  },
  {
   "cell_type": "code",
   "execution_count": null,
   "id": "d26b3d38",
   "metadata": {
    "ExecuteTime": {
     "end_time": "2024-03-31T10:59:09.642852Z",
     "start_time": "2024-03-31T10:59:09.631278Z"
    }
   },
   "outputs": [],
   "source": [
    "# Numerical libraries\n",
    "import numpy as np   \n",
    "\n",
    "# Import Linear Regression machine learning library\n",
    "from sklearn.linear_model import LinearRegression\n",
    "\n",
    "# to handle data in form of rows and columns \n",
    "import pandas as pd    \n",
    "\n",
    "# importing ploting libraries\n",
    "import matplotlib.pyplot as plt   \n",
    "\n",
    "#importing seaborn for statistical plots\n",
    "import seaborn as sns"
   ]
  },
  {
   "cell_type": "code",
   "execution_count": null,
   "id": "b1aff9bc",
   "metadata": {
    "ExecuteTime": {
     "end_time": "2024-03-31T10:59:10.521503Z",
     "start_time": "2024-03-31T10:59:10.507323Z"
    }
   },
   "outputs": [],
   "source": [
    "#!pip install missingno\n",
    "#!pip install statsmodels"
   ]
  },
  {
   "cell_type": "code",
   "execution_count": null,
   "id": "92d0646f",
   "metadata": {
    "ExecuteTime": {
     "end_time": "2024-03-31T11:10:59.319325Z",
     "start_time": "2024-03-31T11:10:59.296601Z"
    }
   },
   "outputs": [],
   "source": [
    "\n",
    "import scipy.stats as stats \n",
    "\n",
    "import warnings\n",
    "warnings.filterwarnings('ignore') # To supress warnings\n",
    "\n",
    "# set the background for the graphs\n",
    "from scipy.stats import skew\n",
    "plt.style.use('ggplot')\n",
    "\n",
    "import missingno as msno # to get visualization on missing values\n",
    "\n",
    "from sklearn.model_selection import train_test_split # Sklearn package's randomized data splitting function\n",
    "from sklearn.preprocessing import StandardScaler\n",
    "from sklearn.preprocessing import OneHotEncoder\n",
    "\n",
    "import math\n",
    "\n",
    "from sklearn.linear_model import LinearRegression\n",
    "from sklearn.metrics import mean_absolute_error, mean_squared_error, r2_score\n",
    "\n",
    "pd.set_option('display.float_format', lambda x: '%.3f' % x)\n",
    "pd.set_option('display.max_rows', 300)\n",
    "pd.set_option('display.max_colwidth',400)\n",
    "pd.set_option('display.float_format', lambda x: '%.5f' % x) # To supress numerical display in scientific notations\n",
    "\n",
    "import statsmodels.api as sm\n",
    "print(\"Import Libraries --> COMPLETED\")"
   ]
  },
  {
   "cell_type": "code",
   "execution_count": null,
   "id": "f2b1a44c",
   "metadata": {
    "ExecuteTime": {
     "end_time": "2024-03-31T10:59:12.976707Z",
     "start_time": "2024-03-31T10:59:12.766966Z"
    }
   },
   "outputs": [],
   "source": [
    "# reading the CSV file into pandas dataframe\n",
    "cp_df = pd.read_csv(\"Training_Data_Set.csv\")"
   ]
  },
  {
   "cell_type": "code",
   "execution_count": null,
   "id": "e991ad99",
   "metadata": {
    "ExecuteTime": {
     "end_time": "2024-03-31T10:59:13.687867Z",
     "start_time": "2024-03-31T10:59:13.676397Z"
    }
   },
   "outputs": [],
   "source": [
    "cp_df.shape"
   ]
  },
  {
   "cell_type": "code",
   "execution_count": null,
   "id": "a93d8351",
   "metadata": {
    "ExecuteTime": {
     "end_time": "2024-03-31T10:59:14.501046Z",
     "start_time": "2024-03-31T10:59:14.471136Z"
    }
   },
   "outputs": [],
   "source": [
    "# Check top few records to get a feel of the data structure\n",
    "cp_df.head()"
   ]
  },
  {
   "cell_type": "code",
   "execution_count": null,
   "id": "0f04997b",
   "metadata": {
    "ExecuteTime": {
     "end_time": "2024-03-31T10:59:15.645082Z",
     "start_time": "2024-03-31T10:59:15.480629Z"
    }
   },
   "outputs": [],
   "source": [
    "#get the size of dataframe\n",
    "print (\"Rows     : \" , cp_df.shape[0])  #get number of rows/observations\n",
    "print (\"Columns  : \" , cp_df.shape[1]) #get number of columns\n",
    "print (\"#\"*40,\"\\n\",\"Features : \\n\\n\", cp_df.columns.tolist()) #get name of columns/features\n",
    "print (\"#\"*40,\"\\nMissing values :\\n\\n\", cp_df.isnull().sum().sort_values(ascending=False))\n",
    "print( \"#\"*40,\"\\nPercent of missing :\\n\\n\", round(cp_df.isna().sum() / cp_df.isna().count() * 100, 2)) # looking at columns with most Missing Values\n",
    "print (\"#\"*40,\"\\nUnique values :  \\n\\n\", cp_df.nunique())  #  count of unique values"
   ]
  },
  {
   "cell_type": "code",
   "execution_count": null,
   "id": "2b5e9308",
   "metadata": {
    "ExecuteTime": {
     "end_time": "2024-03-31T10:59:20.525245Z",
     "start_time": "2024-03-31T10:59:20.469286Z"
    }
   },
   "outputs": [],
   "source": [
    "cp_df.info()"
   ]
  },
  {
   "cell_type": "code",
   "execution_count": null,
   "id": "d3395a8e",
   "metadata": {
    "ExecuteTime": {
     "end_time": "2024-03-31T10:59:24.483190Z",
     "start_time": "2024-03-31T10:59:21.598896Z"
    }
   },
   "outputs": [],
   "source": [
    "msno.bar(cp_df)"
   ]
  },
  {
   "cell_type": "raw",
   "id": "29bb3707",
   "metadata": {},
   "source": [
    "Observations:\n",
    "-------------\n",
    "\n",
    "Below columns have missing values in %:\n",
    "\n",
    "1) Distance        -      2.26000 (1211 rows)\n",
    "2) engine_power    -      2.69000 (1439 rows)\n",
    "3) body_type       -     92.27000 (49379 rows)\n",
    "4) door_count      -     14.08000 (7534 rows)\n",
    "5) seat_count      -     15.90000 (8511 rows)"
   ]
  },
  {
   "cell_type": "code",
   "execution_count": null,
   "id": "d71355c9",
   "metadata": {
    "ExecuteTime": {
     "end_time": "2024-03-31T10:59:29.422330Z",
     "start_time": "2024-03-31T10:59:29.356182Z"
    }
   },
   "outputs": [],
   "source": [
    "# Making a list of all categorical variables\n",
    "cat_col = [\n",
    "    \"fuel_type\",\n",
    "    \"Location\",\n",
    "    \"transmission\",\n",
    "    \"body_type\",\n",
    "    \"Owner Type\",\n",
    "    \"seat_count\"\n",
    "    \n",
    "]\n",
    "\n",
    "# Printing number of count of each unique value in each column\n",
    "for column in cat_col:\n",
    "    print(cp_df[column].value_counts())\n",
    "    print()\n",
    "    print(\"#\" * 40)"
   ]
  },
  {
   "cell_type": "code",
   "execution_count": null,
   "id": "6f4dc3c4",
   "metadata": {
    "ExecuteTime": {
     "end_time": "2024-03-31T10:59:31.404935Z",
     "start_time": "2024-03-31T10:59:31.389285Z"
    }
   },
   "outputs": [],
   "source": [
    "cp_df['manufacture_year'].value_counts()"
   ]
  },
  {
   "cell_type": "raw",
   "id": "bfbb37da",
   "metadata": {},
   "source": [
    "Observations\n",
    "------------\n",
    "\n",
    "- Diesel cars being sold slightly more compared to Petrol cars.\n",
    "- Coimbatore has highest numbers of car availabe for purchase.\n",
    "- 36734 cars with Manual transmission are available for purchase, where as automatic cars are 16781.\n",
    "- Most of the cars are 5 seaters.\n",
    "- Years of car ranges form 1963- 2015"
   ]
  },
  {
   "cell_type": "code",
   "execution_count": null,
   "id": "37d5a83f",
   "metadata": {
    "ExecuteTime": {
     "end_time": "2024-03-31T10:59:35.563584Z",
     "start_time": "2024-03-31T10:59:35.471915Z"
    }
   },
   "outputs": [],
   "source": [
    "cp_df.describe().transpose()"
   ]
  },
  {
   "cell_type": "code",
   "execution_count": null,
   "id": "e269267d",
   "metadata": {
    "ExecuteTime": {
     "end_time": "2024-03-31T10:59:39.133344Z",
     "start_time": "2024-03-31T10:59:39.076763Z"
    }
   },
   "outputs": [],
   "source": [
    "# Null Value Columns\n",
    "cp_df.isnull().sum()"
   ]
  },
  {
   "cell_type": "code",
   "execution_count": null,
   "id": "05a9aac4",
   "metadata": {
    "ExecuteTime": {
     "end_time": "2024-03-31T10:59:40.125452Z",
     "start_time": "2024-03-31T10:59:40.109140Z"
    }
   },
   "outputs": [],
   "source": [
    "print(cp_df.columns)  # Print out the column names\n",
    "print(cp_df.dtypes)   # Print out the data types of each column"
   ]
  },
  {
   "cell_type": "code",
   "execution_count": null,
   "id": "995ad615",
   "metadata": {
    "ExecuteTime": {
     "end_time": "2024-03-31T11:00:09.542087Z",
     "start_time": "2024-03-31T11:00:09.262417Z"
    }
   },
   "outputs": [],
   "source": [
    "# Replace Null Values in Column \"Distance\" with median distance because mean is impacted by outliers\n",
    "cp_df['Distance '] = cp_df.groupby(['Maker', 'model','manufacture_year'])['Distance '].transform(lambda x: x.fillna(x.median()))"
   ]
  },
  {
   "cell_type": "code",
   "execution_count": null,
   "id": "b418b8c8",
   "metadata": {
    "ExecuteTime": {
     "end_time": "2024-03-31T11:00:16.652819Z",
     "start_time": "2024-03-31T11:00:16.637920Z"
    }
   },
   "outputs": [],
   "source": [
    "cp_df['Distance '].fillna(cp_df['Distance '].median(), inplace=True)"
   ]
  },
  {
   "cell_type": "code",
   "execution_count": null,
   "id": "5f39fa12",
   "metadata": {
    "ExecuteTime": {
     "end_time": "2024-03-31T11:00:18.901900Z",
     "start_time": "2024-03-31T11:00:18.832375Z"
    }
   },
   "outputs": [],
   "source": [
    "# Calculate median door_count grouped by Maker and model\n",
    "cp_df['door_count']=cp_df['door_count'].replace({'None':np.nan})\n",
    "cp_df['seat_count']=cp_df['seat_count'].replace({'None':np.nan})\n",
    "cp_df['door_count'] = cp_df.groupby(['Maker', 'model'])['door_count'].transform(lambda x: x.fillna(x.median()))"
   ]
  },
  {
   "cell_type": "code",
   "execution_count": null,
   "id": "1f7ecc00",
   "metadata": {
    "ExecuteTime": {
     "end_time": "2024-03-31T11:00:19.992314Z",
     "start_time": "2024-03-31T11:00:19.929652Z"
    }
   },
   "outputs": [],
   "source": [
    "# Calculate median seat_count grouped by Maker and model\n",
    "cp_df['seat_count'] = cp_df.groupby(['Maker', 'model'])['seat_count'].transform(lambda x: x.fillna(x.median()))"
   ]
  },
  {
   "cell_type": "code",
   "execution_count": null,
   "id": "a0fd5ebd",
   "metadata": {
    "ExecuteTime": {
     "end_time": "2024-03-31T11:00:21.357065Z",
     "start_time": "2024-03-31T11:00:21.326459Z"
    }
   },
   "outputs": [],
   "source": [
    "\n",
    "cp_df['body_type'] = cp_df['body_type'].replace({'compact': 1, 'van': 2})\n"
   ]
  },
  {
   "cell_type": "code",
   "execution_count": null,
   "id": "f8421c2d",
   "metadata": {
    "ExecuteTime": {
     "end_time": "2024-03-31T11:00:22.475118Z",
     "start_time": "2024-03-31T11:00:22.409220Z"
    }
   },
   "outputs": [],
   "source": [
    "# Calculate median body_type grouped by Maker and model\n",
    "cp_df['body_type'] = cp_df.groupby(['Maker', 'model'])['body_type'].transform(lambda x: x.fillna(x.median()))"
   ]
  },
  {
   "cell_type": "code",
   "execution_count": null,
   "id": "b688248f",
   "metadata": {
    "ExecuteTime": {
     "end_time": "2024-03-31T11:00:27.944855Z",
     "start_time": "2024-03-31T11:00:27.217815Z"
    }
   },
   "outputs": [],
   "source": [
    "# # Calculate median engine_power grouped by Maker and model\n",
    "cp_df['engine_power'] = cp_df.groupby(['Maker', 'model','engine_displacement'])['engine_power'].transform(lambda x: x.fillna(x.median()))\n"
   ]
  },
  {
   "cell_type": "code",
   "execution_count": null,
   "id": "3686d3d9",
   "metadata": {
    "ExecuteTime": {
     "end_time": "2024-03-31T11:00:28.471207Z",
     "start_time": "2024-03-31T11:00:28.407370Z"
    }
   },
   "outputs": [],
   "source": [
    "# Null Value Columns replaced\n",
    "cp_df.isnull().sum()"
   ]
  },
  {
   "cell_type": "code",
   "execution_count": null,
   "id": "bdd07b62",
   "metadata": {
    "ExecuteTime": {
     "end_time": "2024-03-31T11:00:30.145789Z",
     "start_time": "2024-03-31T11:00:30.016783Z"
    }
   },
   "outputs": [],
   "source": [
    "cp_df[cp_df['engine_power'].isnull()==True]"
   ]
  },
  {
   "cell_type": "code",
   "execution_count": null,
   "id": "e9bacd48",
   "metadata": {
    "ExecuteTime": {
     "end_time": "2024-03-31T11:00:31.554704Z",
     "start_time": "2024-03-31T11:00:31.506602Z"
    }
   },
   "outputs": [],
   "source": [
    "cp_df[cp_df['body_type'].isnull()==True]"
   ]
  },
  {
   "cell_type": "code",
   "execution_count": null,
   "id": "ff40f66e",
   "metadata": {
    "ExecuteTime": {
     "end_time": "2024-03-31T11:00:38.171997Z",
     "start_time": "2024-03-31T11:00:38.156164Z"
    }
   },
   "outputs": [],
   "source": [
    "cp_df['body_type'].fillna(cp_df['body_type'].median(), inplace=True)"
   ]
  },
  {
   "cell_type": "code",
   "execution_count": null,
   "id": "c21744f3",
   "metadata": {
    "ExecuteTime": {
     "end_time": "2024-03-31T11:00:39.554246Z",
     "start_time": "2024-03-31T11:00:39.542742Z"
    }
   },
   "outputs": [],
   "source": [
    "cp_df['engine_power'].fillna(cp_df['engine_power'].median(), inplace=True)"
   ]
  },
  {
   "cell_type": "code",
   "execution_count": null,
   "id": "df9f4a41",
   "metadata": {
    "ExecuteTime": {
     "end_time": "2024-03-31T11:00:40.835912Z",
     "start_time": "2024-03-31T11:00:40.796428Z"
    }
   },
   "outputs": [],
   "source": [
    "# Null Value Columns replaced\n",
    "cp_df.isnull().sum()"
   ]
  },
  {
   "cell_type": "code",
   "execution_count": null,
   "id": "a115c880",
   "metadata": {
    "ExecuteTime": {
     "end_time": "2024-03-31T11:00:45.251364Z",
     "start_time": "2024-03-31T11:00:45.213581Z"
    }
   },
   "outputs": [],
   "source": [
    "#cp_df['Location'] = cp_df['Location'].replace({'Ahmedabad': 1, 'Bangalore': 2, 'Chennai': 3, 'Coimbatore': 4, 'Delhi': 5, 'Hyderabad': 6, 'Jaipur': 7, 'Kochi': 8, 'Kolkata': 9, 'Mumbai': 10, 'Pune': 11})\n",
    "\n",
    "cp_df['Owner Type'] = cp_df['Owner Type'].replace({'First': 1, 'Second': 2, 'Third': 3, 'Fourth & Above': 4})\n"
   ]
  },
  {
   "cell_type": "code",
   "execution_count": null,
   "id": "ab5bf001",
   "metadata": {
    "ExecuteTime": {
     "end_time": "2024-03-31T11:00:46.167783Z",
     "start_time": "2024-03-31T11:00:46.088699Z"
    }
   },
   "outputs": [],
   "source": [
    "\n",
    "#  Convert categorical variable into dummy/indicator variables. As many columns will be created as distinct values\n",
    "cp_df['Location'] = cp_df['Location'].replace({'Ahmedabad': 1, 'Bangalore': 2, 'Chennai': 3, 'Coimbatore': 4, 'Delhi': 5, 'Hyderabad': 6, 'Jaipur': 7, 'Kochi': 8, 'Kolkata': 9, 'Mumbai': 10, 'Pune': 11})\n"
   ]
  },
  {
   "cell_type": "code",
   "execution_count": null,
   "id": "753a564e",
   "metadata": {
    "ExecuteTime": {
     "end_time": "2024-03-31T11:00:46.968403Z",
     "start_time": "2024-03-31T11:00:46.919649Z"
    }
   },
   "outputs": [],
   "source": [
    "cp_df['transmission'] = cp_df['transmission'].replace({'man': 0, 'auto': 1})\n"
   ]
  },
  {
   "cell_type": "code",
   "execution_count": null,
   "id": "327cffe0",
   "metadata": {
    "ExecuteTime": {
     "end_time": "2024-03-31T11:00:47.834833Z",
     "start_time": "2024-03-31T11:00:47.793324Z"
    }
   },
   "outputs": [],
   "source": [
    "cp_df['fuel_type'] = cp_df['fuel_type'].replace({'diesel': 0, 'petrol': 1})"
   ]
  },
  {
   "cell_type": "code",
   "execution_count": null,
   "id": "3e5476ac",
   "metadata": {
    "ExecuteTime": {
     "end_time": "2024-03-31T11:00:48.550123Z",
     "start_time": "2024-03-31T11:00:48.493979Z"
    }
   },
   "outputs": [],
   "source": [
    "cp_df['Maker']=cp_df['Maker'].replace({'skoda':1,'toyota':2,'audi':3,'bmw':4,'nissan':5,'hyundai':6,'fiat':7,'maserati':8})"
   ]
  },
  {
   "cell_type": "code",
   "execution_count": null,
   "id": "a99893ec",
   "metadata": {
    "ExecuteTime": {
     "end_time": "2024-03-31T11:00:51.639564Z",
     "start_time": "2024-03-31T11:00:51.509678Z"
    }
   },
   "outputs": [],
   "source": [
    "cp_df['model']=cp_df['model'].replace({ 'octavia':1,'superb':2,'yaris' :3,'qashqai' :4,'x3' :5,'x1' :6,'i30' :7,'q5' :8,'x5':9,'yeti' :10,'panda' :11,'q3' :12,'coupe' :13,'micra' :14,'auris' :15,'avensis' :16,'aygo' :17,'rapid' :18,'roomster': 19,'q7' :20,'citigo':21,'juke' :22,'tt' :23})\n"
   ]
  },
  {
   "cell_type": "code",
   "execution_count": null,
   "id": "02c7341b",
   "metadata": {
    "ExecuteTime": {
     "end_time": "2024-03-31T11:00:54.332863Z",
     "start_time": "2024-03-31T11:00:54.301202Z"
    }
   },
   "outputs": [],
   "source": [
    "cp_df.head(10)"
   ]
  },
  {
   "cell_type": "code",
   "execution_count": null,
   "id": "bb6741e9",
   "metadata": {
    "ExecuteTime": {
     "end_time": "2024-03-31T11:00:57.701415Z",
     "start_time": "2024-03-31T11:00:57.684878Z"
    }
   },
   "outputs": [],
   "source": [
    "print(cp_df.dtypes)   # Print out the data types of each column"
   ]
  },
  {
   "cell_type": "code",
   "execution_count": null,
   "id": "f36dd839",
   "metadata": {
    "ExecuteTime": {
     "end_time": "2024-03-31T11:00:58.928212Z",
     "start_time": "2024-03-31T11:00:58.799989Z"
    }
   },
   "outputs": [],
   "source": [
    "cp_df.describe().transpose()"
   ]
  },
  {
   "cell_type": "code",
   "execution_count": null,
   "id": "f5719f2d",
   "metadata": {
    "ExecuteTime": {
     "end_time": "2024-03-31T11:05:37.955529Z",
     "start_time": "2024-03-31T11:00:59.733724Z"
    }
   },
   "outputs": [],
   "source": [
    "#sns.pairplot(cp_df, diag_kind='kde')"
   ]
  },
  {
   "cell_type": "code",
   "execution_count": null,
   "id": "5c172c75",
   "metadata": {
    "ExecuteTime": {
     "end_time": "2024-03-31T11:23:05.414351Z",
     "start_time": "2024-03-31T11:23:05.388235Z"
    }
   },
   "outputs": [],
   "source": [
    "# reading the CSV file into pandas dataframe\n",
    "cp_test_df = pd.read_csv(\"Test_Data_Set.csv\")"
   ]
  },
  {
   "cell_type": "code",
   "execution_count": null,
   "id": "80abc881",
   "metadata": {
    "ExecuteTime": {
     "end_time": "2024-03-31T11:23:27.145259Z",
     "start_time": "2024-03-31T11:23:26.625400Z"
    }
   },
   "outputs": [],
   "source": [
    "\n",
    "# Calculate median Distance grouped by Maker, model and manufacture_year\n",
    "cp_test_df['Distance '] = cp_test_df.groupby(['Maker', 'model','manufacture_year'])['Distance '].transform(lambda x: x.fillna(x.median()))\n",
    "\n",
    "# Replace Null Values in Column \"Distance\" with median distance because mean is impacted by outliers\n",
    "cp_test_df['Distance '].fillna(cp_test_df['Distance '].median(), inplace=True)\n",
    "\n",
    "cp_test_df['door_count']=cp_test_df['door_count'].replace({'None':np.nan})\n",
    "# Calculate median door_count grouped by Maker and model\n",
    "cp_test_df['door_count'] = cp_test_df.groupby(['Maker', 'model'])['door_count'].transform(lambda x: x.fillna(x.median()))\n",
    "\n",
    "cp_test_df['seat_count']=cp_test_df['seat_count'].replace({'None': np.nan})\n",
    "# Calculate median seat_count grouped by Maker and model\n",
    "cp_test_df['seat_count'] = cp_test_df.groupby(['Maker', 'model'])['seat_count'].transform(lambda x: x.fillna(x.median()))\n",
    "\n",
    "\n",
    "# Replace compact and van Values in Column \"body_type\" with \"1\" and \"2\" respectively\n",
    "cp_test_df['body_type'] = cp_test_df['body_type'].replace({'compact': 1, 'van': 2})\n",
    "\n",
    "\n",
    "# Calculate median body_type grouped by Maker and model\n",
    "cp_test_df['body_type'] = cp_test_df.groupby(['Maker', 'model'])['body_type'].transform(lambda x: x.fillna(x.median()))\n",
    "\n",
    "\n",
    "cp_test_df['body_type'].fillna(cp_test_df['body_type'].median(), inplace=True)\n",
    "\n",
    "\n",
    "# # Calculate median engine_power grouped by Maker and model\n",
    "cp_test_df['engine_power'] = cp_test_df.groupby(['Maker', 'model','engine_displacement'])['engine_power'].transform(lambda x: x.fillna(x.median()))\n",
    "\n",
    "\n",
    "cp_test_df['engine_power'].fillna(cp_test_df['engine_power'].median(), inplace=True)\n",
    "\n",
    "\n",
    "cp_test_df['Owner Type'] = cp_test_df['Owner Type'].replace({'First': 1, 'Second': 2, 'Third': 3, 'Fourth & Above': 4})\n",
    "\n",
    "#  Convert categorical variable into dummy/indicator variables. As many columns will be created as distinct values\n",
    "cp_test_df['Location'] = cp_test_df['Location'].replace({'Ahmedabad': 1, 'Bangalore': 2, 'Chennai': 3, 'Coimbatore': 4, 'Delhi': 5, 'Hyderabad': 6, 'Jaipur': 7, 'Kochi': 8, 'Kolkata': 9, 'Mumbai': 10, 'Pune': 11})\n",
    "\n",
    "\n",
    "cp_test_df['transmission'] = cp_test_df['transmission'].replace({'man': 0, 'auto': 1})\n",
    "\n",
    "\n",
    "cp_test_df['fuel_type'] = cp_test_df['fuel_type'].replace({'diesel': 0, 'petrol': 1})\n",
    "\n",
    "\n",
    "cp_test_df['Maker']=cp_test_df['Maker'].replace({'skoda':1,'toyota':2,'audi':3,'bmw':4,'nissan':5,'hyundai':6,'fiat':7,'maserati':8})\n",
    "\n",
    "cp_test_df['model']=cp_test_df['model'].replace({ 'octavia':1,'superb':2,'yaris' :3,'qashqai' :4,'x3' :5,'x1' :6,'i30' :7,'q5' :8,'x5':9,'yeti' :10,'panda' :11,'q3' :12,'coupe' :13,'micra' :14,'auris' :15,'avensis' :16,'aygo' :17,'rapid' :18,'roomster': 19,'q7' :20,'citigo':21,'juke' :22,'tt' :23})"
   ]
  },
  {
   "cell_type": "code",
   "execution_count": null,
   "id": "cfbfc2de",
   "metadata": {
    "ExecuteTime": {
     "end_time": "2024-03-31T11:31:17.154129Z",
     "start_time": "2024-03-31T11:31:17.129997Z"
    }
   },
   "outputs": [],
   "source": [
    "# Copy all the predictor variables into X dataframe. Since 'mpg' is dependent variable drop it\n",
    "X = cp_df.drop('Price', axis=1)\n",
    "\n",
    "# Copy the 'mpg' column alone into the y dataframe. This is the dependent variable\n",
    "y = cp_df[['Price']]"
   ]
  },
  {
   "cell_type": "code",
   "execution_count": null,
   "id": "d9f9027b",
   "metadata": {
    "ExecuteTime": {
     "end_time": "2024-03-31T11:31:17.916445Z",
     "start_time": "2024-03-31T11:31:17.901120Z"
    }
   },
   "outputs": [],
   "source": [
    "X_cp_test = cp_test_df"
   ]
  },
  {
   "cell_type": "code",
   "execution_count": null,
   "id": "b9759576",
   "metadata": {
    "ExecuteTime": {
     "end_time": "2024-03-31T11:31:19.350866Z",
     "start_time": "2024-03-31T11:31:19.314884Z"
    }
   },
   "outputs": [],
   "source": [
    "# Split X and y into training and test set in 75:25 ratio\n",
    "\n",
    "X_train, X_test, y_train, y_test = train_test_split(X, y, test_size=0.30, random_state=1)\n",
    "X.head()"
   ]
  },
  {
   "cell_type": "code",
   "execution_count": null,
   "id": "b0c2ad90",
   "metadata": {
    "ExecuteTime": {
     "end_time": "2024-03-31T11:31:21.199283Z",
     "start_time": "2024-03-31T11:31:21.139603Z"
    }
   },
   "outputs": [],
   "source": [
    "# invoke the LinearRegression function and find the bestfit model on training data\n",
    "\n",
    "regression_model = LinearRegression()\n",
    "regression_model.fit(X_train, y_train)"
   ]
  },
  {
   "cell_type": "code",
   "execution_count": null,
   "id": "9e68ac40",
   "metadata": {
    "ExecuteTime": {
     "end_time": "2024-03-31T11:31:21.963137Z",
     "start_time": "2024-03-31T11:31:21.950884Z"
    }
   },
   "outputs": [],
   "source": [
    "# Let us explore the coefficients for each of the independent attributes\n",
    "\n",
    "for idx, col_name in enumerate(X_train.columns):\n",
    "    print(\"The coefficient for {} is {}\".format(col_name, regression_model.coef_[0][idx]))"
   ]
  },
  {
   "cell_type": "code",
   "execution_count": null,
   "id": "308669fa",
   "metadata": {
    "ExecuteTime": {
     "end_time": "2024-03-31T11:31:23.064951Z",
     "start_time": "2024-03-31T11:31:23.041571Z"
    }
   },
   "outputs": [],
   "source": [
    "# Let us check the intercept for the model\n",
    "\n",
    "intercept = regression_model.intercept_[0]\n",
    "\n",
    "print(\"The intercept for our model is {}\".format(intercept))"
   ]
  },
  {
   "cell_type": "code",
   "execution_count": null,
   "id": "dc1caa6f",
   "metadata": {
    "ExecuteTime": {
     "end_time": "2024-03-31T11:31:24.930600Z",
     "start_time": "2024-03-31T11:31:24.916725Z"
    }
   },
   "outputs": [],
   "source": [
    "# we can write our linear model as:\n",
    "# Y=−21.11–0.35×X1+0.03×X2–0.02×X3–0.01×X4+0.12×X5+0.85×X6–1.90×X7+0.74×X8+1.16×X9"
   ]
  },
  {
   "cell_type": "code",
   "execution_count": null,
   "id": "f3d3f904",
   "metadata": {
    "ExecuteTime": {
     "end_time": "2024-03-31T11:31:25.910416Z",
     "start_time": "2024-03-31T11:31:25.885659Z"
    }
   },
   "outputs": [],
   "source": [
    "# Model score - R2 or coeff of determinant\n",
    "# R^2=1–RSS / TSS\n",
    "\n",
    "regression_model.score(X_test, y_test)"
   ]
  },
  {
   "cell_type": "code",
   "execution_count": null,
   "id": "83f8db80",
   "metadata": {
    "ExecuteTime": {
     "end_time": "2024-03-31T11:31:26.914930Z",
     "start_time": "2024-03-31T11:31:26.908433Z"
    }
   },
   "outputs": [],
   "source": [
    "# So the model explains 67% of the variability in Y using X"
   ]
  },
  {
   "cell_type": "code",
   "execution_count": null,
   "id": "5921bee0",
   "metadata": {
    "ExecuteTime": {
     "end_time": "2024-03-31T11:31:28.495854Z",
     "start_time": "2024-03-31T11:31:28.481836Z"
    }
   },
   "outputs": [],
   "source": [
    "#  Iteration -2 \n",
    "\n",
    "#Since on many dimensions, the relationship is not really linear, let us try polynomial models (quadratic)"
   ]
  },
  {
   "cell_type": "code",
   "execution_count": null,
   "id": "c8af79ed",
   "metadata": {
    "ExecuteTime": {
     "end_time": "2024-03-31T11:31:30.079513Z",
     "start_time": "2024-03-31T11:31:29.519756Z"
    }
   },
   "outputs": [],
   "source": [
    "from sklearn.preprocessing import PolynomialFeatures\n",
    "from sklearn import linear_model\n",
    "\n",
    "poly = PolynomialFeatures(degree=2, interaction_only=True)\n",
    "X_train_ = poly.fit_transform(X_train)\n",
    "\n",
    "# X_test_ = poly.fit_transform(X_test)\n",
    "\n",
    "poly_clf = linear_model.LinearRegression()\n",
    "\n",
    "poly_clf.fit(X_train_, y_train)\n",
    "\n",
    "# y_pred = poly_clf.predict(X_test_)\n",
    "\n",
    "#print(y_pred)\n",
    "\n",
    "print(poly_clf.score(X_train_, y_train))"
   ]
  },
  {
   "cell_type": "code",
   "execution_count": null,
   "id": "f765e650",
   "metadata": {
    "ExecuteTime": {
     "end_time": "2024-03-31T12:15:50.967782Z",
     "start_time": "2024-03-31T12:15:50.914613Z"
    }
   },
   "outputs": [],
   "source": [
    "X_test_ = poly.fit_transform(X_cp_test)\n",
    "\n",
    "y_pred = poly_clf.predict(X_test_)\n",
    "\n",
    "output = pd.DataFrame({\"Id\": X_test_[:, 1].flatten(), \"Price\": y_pred.flatten()})\n",
    "\n",
    "# output = pd.DataFrame({\"Price\":y_pred})\n",
    "output.to_csv('/Users/rajeshvanamala/Documents/Rajesh/Learning/SEinDSPartB/Pre-Requisite/Hackathon/Sample_Submission_Poly.csv',index=False)\n"
   ]
  },
  {
   "cell_type": "code",
   "execution_count": null,
   "id": "4e869c61",
   "metadata": {
    "ExecuteTime": {
     "end_time": "2024-03-31T12:09:09.665718Z",
     "start_time": "2024-03-31T12:09:09.655068Z"
    }
   },
   "outputs": [],
   "source": [
    "print(X_test_.shape)"
   ]
  },
  {
   "cell_type": "code",
   "execution_count": null,
   "id": "a90e1f6e",
   "metadata": {
    "ExecuteTime": {
     "end_time": "2024-03-31T11:34:47.589193Z",
     "start_time": "2024-03-31T11:34:47.572721Z"
    }
   },
   "outputs": [],
   "source": [
    "print(X.shape)\n",
    "print(X_train_.shape)\n",
    "poly"
   ]
  },
  {
   "cell_type": "code",
   "execution_count": null,
   "id": "96510874",
   "metadata": {},
   "outputs": [],
   "source": [
    "# Randon Forest Model prediction steps\n",
    "\n",
    "from sklearn.metrics import mean_squared_error,r2_score\n",
    "from sklearn.ensemble import RandomForestRegressor\n",
    "# Fitting Random Forest Regression to the dataset\n",
    "regressor = RandomForestRegressor(n_estimators=32, random_state=0, oob_score=True)\n",
    " \n",
    "# Fit the regressor with x and y data\n",
    "regressor.fit(X, y)\n",
    "oob_score = regressor.oob_score_\n",
    "print(f'Out-of-Bag Score: {oob_score}')\n",
    " \n",
    "predictions = regressor.predict(X)\n",
    "# Evaluating the model\n",
    "mse = mean_squared_error(y, predictions)"
   ]
  },
  {
   "cell_type": "code",
   "execution_count": null,
   "id": "491d085b",
   "metadata": {},
   "outputs": [],
   "source": [
    "print(f'Mean Squared Error: {mse}')"
   ]
  },
  {
   "cell_type": "code",
   "execution_count": null,
   "id": "f41dd00d",
   "metadata": {},
   "outputs": [],
   "source": [
    "print(f'Root Mean Squared Error: {math.sqrt(mse)}')"
   ]
  },
  {
   "cell_type": "code",
   "execution_count": null,
   "id": "87dd1ac1",
   "metadata": {},
   "outputs": [],
   "source": [
    "r2 = r2_score(y, predictions)\n",
    "print(f'R-squared: {r2}')"
   ]
  },
  {
   "cell_type": "code",
   "execution_count": null,
   "id": "78d68737",
   "metadata": {},
   "outputs": [],
   "source": [
    "rf_y = regressor.predict(X_cp_test)"
   ]
  },
  {
   "cell_type": "code",
   "execution_count": null,
   "id": "14985a4a",
   "metadata": {},
   "outputs": [],
   "source": [
    "\n",
    "\n",
    "output = pd.DataFrame({\"Id\": X_cp_test[\"Id\"], \"Price\": rf_y.flatten()})\n",
    "\n",
    "# output = pd.DataFrame({\"Price\":y_pred})\n",
    "output.to_csv('/Users/rajeshvanamala/Documents/Rajesh/Learning/SEinDSPartB/Pre-Requisite/Hackathon/Sample_Submission_RF.csv',index=False)\n"
   ]
  },
  {
   "cell_type": "code",
   "execution_count": null,
   "id": "e6694985",
   "metadata": {},
   "outputs": [],
   "source": [
    "# Decision Tree Model prediction steps\n",
    "\n",
    "from sklearn.tree import DecisionTreeRegressor\n",
    "from sklearn.metrics import mean_squared_error\n",
    "\n",
    "model=DecisionTreeRegressor(criterion='squared_error')\n",
    "model.fit(X_train, y_train)\n",
    "model.score(X_train, y_train)\n",
    "model.score(X_test, y_test)  # performance on test data\n",
    "\n",
    "predictions=model.predict(X)\n",
    "mse = mean_squared_error(y, predictions)\n",
    "print(f'Mean Squared Error: {mse}')"
   ]
  },
  {
   "cell_type": "code",
   "execution_count": null,
   "id": "38179d7c",
   "metadata": {},
   "outputs": [],
   "source": [
    "print(f'Root Mean Squared Error: {math.sqrt(mse)}')"
   ]
  },
  {
   "cell_type": "code",
   "execution_count": null,
   "id": "6f6343e3",
   "metadata": {},
   "outputs": [],
   "source": [
    "r2 = r2_score(y, predictions)\n",
    "print(f'R-squared: {r2}')"
   ]
  },
  {
   "cell_type": "code",
   "execution_count": null,
   "id": "3f0b764a",
   "metadata": {},
   "outputs": [],
   "source": [
    "dt_y = model.predict(X_cp_test)"
   ]
  },
  {
   "cell_type": "code",
   "execution_count": null,
   "id": "00d95abd",
   "metadata": {},
   "outputs": [],
   "source": [
    "\n",
    "output = pd.DataFrame({\"Id\": X_cp_test[\"Id\"], \"Price\": dt_y.flatten()})\n",
    "\n",
    "# output = pd.DataFrame({\"Price\":y_pred})\n",
    "output.to_csv('/Users/rajeshvanamala/Documents/Rajesh/Learning/SEinDSPartB/Pre-Requisite/Hackathon/Sample_Submission_DT.csv',index=False)\n"
   ]
  },
  {
   "cell_type": "code",
   "execution_count": null,
   "id": "2b723867",
   "metadata": {},
   "outputs": [],
   "source": []
  }
 ],
 "metadata": {
  "hide_input": false,
  "kernelspec": {
   "display_name": "Python 3 (ipykernel)",
   "language": "python",
   "name": "python3"
  },
  "language_info": {
   "codemirror_mode": {
    "name": "ipython",
    "version": 3
   },
   "file_extension": ".py",
   "mimetype": "text/x-python",
   "name": "python",
   "nbconvert_exporter": "python",
   "pygments_lexer": "ipython3",
   "version": "3.10.9"
  },
  "toc": {
   "base_numbering": 1,
   "nav_menu": {},
   "number_sections": true,
   "sideBar": true,
   "skip_h1_title": false,
   "title_cell": "Table of Contents",
   "title_sidebar": "Contents",
   "toc_cell": false,
   "toc_position": {},
   "toc_section_display": true,
   "toc_window_display": false
  }
 },
 "nbformat": 4,
 "nbformat_minor": 5
}
